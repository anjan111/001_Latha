{
 "cells": [
  {
   "cell_type": "code",
   "execution_count": 2,
   "metadata": {},
   "outputs": [
    {
     "name": "stdout",
     "output_type": "stream",
     "text": [
      "name : anjna\n",
      "phone: 9828965\n",
      "mail : qwewgtrf@rrg.in\n",
      "****\n",
      "name : anjna\n",
      "phone: 9828965\n",
      "mail : qwewgtrf@rrg.in\n",
      "/////\n",
      "name : anjna\n",
      "phone: 9828965\n",
      "mail : qwewgtrf@rrg.in\n"
     ]
    }
   ],
   "source": [
    "# function\n",
    "'''\n",
    "===>> collection of statement to do any specific task with program\n",
    "'''\n",
    "#  Type\n",
    "'''\n",
    "==>>> pre defined function\n",
    "\n",
    "==>>> User Defined Function\n",
    "\n",
    "'''\n",
    "# User defined function\n",
    "'''\n",
    "===>> The functions which are created by programmer\n",
    "'''\n",
    "# Function componets\n",
    "'''\n",
    "1. Function defination\n",
    "\n",
    "2. Function call\n",
    "\n",
    "'''\n",
    "# Function Defination\n",
    "'''\n",
    "--->>> We have to write the statements as block\n",
    "--->>> it won't be executed untill w call\n",
    "'''\n",
    "# syntax\n",
    "'''\n",
    "def   fun_name():\n",
    "    Task\n",
    "    ----\n",
    "    ---\n",
    "\n",
    "'''\n",
    "# function call\n",
    "'''\n",
    "==>> It ca used for to execute the function defination\n",
    "'''\n",
    "# syntax\n",
    "'''\n",
    "fun_name()\n",
    "'''\n",
    "\n",
    "# wap print your details \n",
    "\n",
    "def  details():\n",
    "    print \"name : anjna\"\n",
    "    print \"phone: 9828965\"\n",
    "    print \"mail : qwewgtrf@rrg.in\"\n",
    "details()\n",
    "print \"****\"\n",
    "details()\n",
    "print \"/////\"\n",
    "details()"
   ]
  },
  {
   "cell_type": "code",
   "execution_count": null,
   "metadata": {},
   "outputs": [],
   "source": [
    "# arguments \n",
    "# return\n",
    "# python program structure \n",
    "def user_fun1():\n",
    "    pass\n",
    "def user_fun2():\n",
    "    pass\n",
    "def user_fun3():\n",
    "    pass\n",
    "def main():\n",
    "    pass\n",
    "if __name__ ==\"__main__\" :\n",
    "    main()"
   ]
  },
  {
   "cell_type": "code",
   "execution_count": 6,
   "metadata": {},
   "outputs": [
    {
     "name": "stdout",
     "output_type": "stream",
     "text": [
      "enter str : \"python programming langauge\"\n",
      "total no of characters in  python programming langauge  is  27\n",
      "reverse of   python programming langauge  is  eguagnal gnimmargorp nohtyp\n",
      "each char count :  {'a': 3, ' ': 2, 'e': 1, 'g': 4, 'i': 1, 'h': 1, 'm': 2, 'l': 1, 'o': 2, 'n': 3, 'p': 2, 'r': 2, 'u': 1, 't': 1, 'y': 1}\n"
     ]
    }
   ],
   "source": [
    "# str_len , str_count , str_rev\n",
    "def str_len(str = None):\n",
    "    le = 0\n",
    "    for char in str:\n",
    "        le = le +1\n",
    "    else:\n",
    "        return le\n",
    "def str_count(str = None):\n",
    "    dict = {}\n",
    "    for  char in str:\n",
    "        count = 0\n",
    "        for ch in str:\n",
    "            if(ch == char):\n",
    "                count = count+1\n",
    "        else:\n",
    "            dict[char] = count\n",
    "    else:\n",
    "        return dict\n",
    "        \n",
    "def str_rev(str = None):\n",
    "    rev =\"\"\n",
    "    last = len(str)  -1\n",
    "    first = 0\n",
    "    i = last\n",
    "    while (i >= first):\n",
    "        rev = rev + str[i]\n",
    "        i = i - 1\n",
    "    else:\n",
    "        return rev\n",
    "def main():\n",
    "    str1 = input(\"enter str : \")\n",
    "    print \"total no of characters in \",str1,\" is \",str_len(str1)\n",
    "    print \"reverse of  \",str1,\" is \",str_rev(str1)\n",
    "    print \"each char count : \",str_count(str1)\n",
    "    \n",
    "if __name__ == \"__main__\":\n",
    "    main()"
   ]
  },
  {
   "cell_type": "code",
   "execution_count": 3,
   "metadata": {},
   "outputs": [
    {
     "name": "stdout",
     "output_type": "stream",
     "text": [
      "['python', 'gfg']\n"
     ]
    }
   ],
   "source": [
    "var = \"python\""
   ]
  },
  {
   "cell_type": "code",
   "execution_count": null,
   "metadata": {},
   "outputs": [],
   "source": []
  }
 ],
 "metadata": {
  "kernelspec": {
   "display_name": "Python 2",
   "language": "python",
   "name": "python2"
  },
  "language_info": {
   "codemirror_mode": {
    "name": "ipython",
    "version": 2
   },
   "file_extension": ".py",
   "mimetype": "text/x-python",
   "name": "python",
   "nbconvert_exporter": "python",
   "pygments_lexer": "ipython2",
   "version": "2.7.16"
  }
 },
 "nbformat": 4,
 "nbformat_minor": 2
}
