{
 "cells": [
  {
   "cell_type": "code",
   "execution_count": 1,
   "metadata": {},
   "outputs": [
    {
     "name": "stdout",
     "output_type": "stream",
     "text": [
      "True\n",
      "False\n",
      "False\n"
     ]
    }
   ],
   "source": [
    "# relational operators\n",
    "'''\n",
    "===>> to compare  the 2 operands ( data elements)\n",
    "===>> the result ---> boolean\n",
    "===>> There are 6 ralational operators\n",
    "\n",
    "1. lessthan     <\n",
    "2. greaterthan  >\n",
    "3. equal too   ==\n",
    "4. not equal to  !=\n",
    "5. lessthan or equl    <=\n",
    "6. greaterthan or equal  >=\n",
    "\n",
    "\n",
    "'''\n",
    "# lessthan   <\n",
    "\n",
    "print  10  < 20  # True\n",
    "print  10  < 10  # False\n",
    "print  20  < 10  # False"
   ]
  },
  {
   "cell_type": "code",
   "execution_count": 2,
   "metadata": {},
   "outputs": [
    {
     "name": "stdout",
     "output_type": "stream",
     "text": [
      "False\n",
      "False\n",
      "True\n"
     ]
    }
   ],
   "source": [
    "# greaterthan   >\n",
    "\n",
    "print  10  > 20  # False\n",
    "print  10  > 10  # False\n",
    "print  20  > 10  # True"
   ]
  },
  {
   "cell_type": "code",
   "execution_count": 3,
   "metadata": {},
   "outputs": [
    {
     "name": "stdout",
     "output_type": "stream",
     "text": [
      "False\n",
      "True\n",
      "False\n"
     ]
    }
   ],
   "source": [
    "# equal too   ==\n",
    "\n",
    "print  10  == 20  # False\n",
    "print  10  == 10  # True\n",
    "print  20  == 10  # False"
   ]
  },
  {
   "cell_type": "code",
   "execution_count": 4,
   "metadata": {},
   "outputs": [
    {
     "name": "stdout",
     "output_type": "stream",
     "text": [
      "True\n",
      "True\n",
      "False\n"
     ]
    }
   ],
   "source": [
    "# lessthan or equal   <\n",
    "\n",
    "print  10  <= 20  # True\n",
    "print  10  <= 10  # True\n",
    "print  20  <= 10  # False"
   ]
  },
  {
   "cell_type": "code",
   "execution_count": 5,
   "metadata": {},
   "outputs": [
    {
     "name": "stdout",
     "output_type": "stream",
     "text": [
      "False\n",
      "True\n",
      "True\n"
     ]
    }
   ],
   "source": [
    "# greaterthan   >=\n",
    "\n",
    "print  10  >= 20  # False\n",
    "print  10  >= 10  # True\n",
    "print  20  >= 10  # True"
   ]
  },
  {
   "cell_type": "code",
   "execution_count": 6,
   "metadata": {},
   "outputs": [
    {
     "name": "stdout",
     "output_type": "stream",
     "text": [
      "True\n",
      "False\n",
      "True\n"
     ]
    }
   ],
   "source": [
    "# not equal  !=\n",
    "\n",
    "print  10  != 20  # True\n",
    "print  10  != 10  # False\n",
    "print  20  != 10  # True"
   ]
  },
  {
   "cell_type": "code",
   "execution_count": 8,
   "metadata": {},
   "outputs": [
    {
     "name": "stdout",
     "output_type": "stream",
     "text": [
      "enter num : 420\n",
      "420  is even  True\n"
     ]
    }
   ],
   "source": [
    "##### wap find the given number is even or not\n",
    "num = input(\"enter num : \")\n",
    "rem = num % 2\n",
    "print num,\" is even \", rem == 0"
   ]
  },
  {
   "cell_type": "code",
   "execution_count": 9,
   "metadata": {},
   "outputs": [
    {
     "name": "stdout",
     "output_type": "stream",
     "text": [
      "123\n",
      "123\n",
      "1722\n"
     ]
    }
   ],
   "source": [
    "# assignments    =\n",
    "var = 123 # constant to variable\n",
    "a  = var  # variable to variable\n",
    "c = a*12+var*2 # expression to variable\n",
    "print var\n",
    "print a\n",
    "print c"
   ]
  },
  {
   "cell_type": "code",
   "execution_count": 10,
   "metadata": {},
   "outputs": [
    {
     "name": "stdout",
     "output_type": "stream",
     "text": [
      "a :  10\n",
      "b :  20\n",
      "a :  30\n",
      "b :  20\n"
     ]
    }
   ],
   "source": [
    "# operation then update\n",
    "\n",
    "a = 10\n",
    "b = 20\n",
    "print \"a : \",a\n",
    "print \"b : \",b\n",
    "a = a+b  # addition then update\n",
    "print \"a : \",a\n",
    "print \"b : \",b\n"
   ]
  },
  {
   "cell_type": "code",
   "execution_count": 11,
   "metadata": {},
   "outputs": [
    {
     "name": "stdout",
     "output_type": "stream",
     "text": [
      "a :  10\n",
      "b :  20\n",
      "a :  30\n",
      "b :  20\n"
     ]
    }
   ],
   "source": [
    "\n",
    "a = 10\n",
    "b = 20\n",
    "print \"a : \",a\n",
    "print \"b : \",b\n",
    "a  += b   #a = a+b  # addition then update\n",
    "print \"a : \",a\n",
    "print \"b : \",b"
   ]
  },
  {
   "cell_type": "code",
   "execution_count": null,
   "metadata": {},
   "outputs": [],
   "source": [
    "#subtraction then update\n",
    "# multiplication then update \n",
    "# diviion then update\n",
    "# modules and then update"
   ]
  },
  {
   "cell_type": "code",
   "execution_count": 12,
   "metadata": {},
   "outputs": [
    {
     "name": "stdout",
     "output_type": "stream",
     "text": [
      "True\n",
      "False\n"
     ]
    }
   ],
   "source": [
    "# special operators\n",
    "'''\n",
    "1. Membership operator\n",
    "====>> to checking the element is availabe with in the group or not\n",
    "   1. in\n",
    "   2. not in\n",
    "   \n",
    "2. Identity operator\n",
    "\n",
    "===>>>> to checking the memory loc of 2 inputs\n",
    "    1. is \n",
    "    2. is not\n",
    "'''\n",
    "a = 10\n",
    "b = 20\n",
    "c = [45,67,23,20,34]\n",
    "print b in c  # True\n",
    "print a in c  # False"
   ]
  },
  {
   "cell_type": "code",
   "execution_count": 13,
   "metadata": {},
   "outputs": [
    {
     "name": "stdout",
     "output_type": "stream",
     "text": [
      "False\n",
      "True\n"
     ]
    }
   ],
   "source": [
    "a = 10\n",
    "b = 20\n",
    "c = [45,67,23,20,34]\n",
    "print b not in  c  # False\n",
    "print a not in c  # True"
   ]
  },
  {
   "cell_type": "code",
   "execution_count": 14,
   "metadata": {},
   "outputs": [
    {
     "name": "stdout",
     "output_type": "stream",
     "text": [
      "78606216\n",
      "78606096\n",
      "False\n",
      "True\n",
      "50233632\n",
      "50233632\n",
      "True\n",
      "True\n"
     ]
    }
   ],
   "source": [
    "#identity operator\n",
    "a = 1000\n",
    "b = 1000\n",
    "print id(a)\n",
    "print id(b)\n",
    "print a  is  b\n",
    "print a  == b\n",
    "a = 100\n",
    "b = 100\n",
    "print id(a)\n",
    "print id(b)\n",
    "print a is b\n",
    "print a == b\n"
   ]
  },
  {
   "cell_type": "code",
   "execution_count": 15,
   "metadata": {},
   "outputs": [
    {
     "name": "stdout",
     "output_type": "stream",
     "text": [
      "False\n",
      "True\n",
      "True\n",
      "False\n"
     ]
    }
   ],
   "source": [
    "a = 1000\n",
    "b = 1000\n",
    "print a is b\n",
    "print a is not b\n",
    "\n",
    "a =  100\n",
    "b = 100\n",
    "print a is b\n",
    "print a is not b"
   ]
  },
  {
   "cell_type": "code",
   "execution_count": 1,
   "metadata": {},
   "outputs": [
    {
     "name": "stdout",
     "output_type": "stream",
     "text": [
      "37\n"
     ]
    }
   ],
   "source": [
    "# BitWise Operators\n",
    "# Bitwise AND    &\n",
    "print  45 & 183\n"
   ]
  },
  {
   "cell_type": "code",
   "execution_count": 2,
   "metadata": {},
   "outputs": [
    {
     "name": "stdout",
     "output_type": "stream",
     "text": [
      "191\n"
     ]
    }
   ],
   "source": [
    "# Bitwise OR   |\n",
    "print  45 | 183\n"
   ]
  },
  {
   "cell_type": "code",
   "execution_count": 3,
   "metadata": {},
   "outputs": [
    {
     "name": "stdout",
     "output_type": "stream",
     "text": [
      "154\n"
     ]
    }
   ],
   "source": [
    "# Bitwise XOR   ^\n",
    "'''\n",
    "0    0   ----> 0\n",
    "1    1   ----> 0\n",
    "0    1   ----> 1\n",
    "1    0   ----> 1\n",
    "'''\n",
    "print  45 ^ 183\n"
   ]
  },
  {
   "cell_type": "code",
   "execution_count": 4,
   "metadata": {},
   "outputs": [
    {
     "name": "stdout",
     "output_type": "stream",
     "text": [
      "180\n"
     ]
    }
   ],
   "source": [
    "# biwise leftshift   <<\n",
    "#  num   <<  no_bits\n",
    "'''\n",
    "===>> num --->> binary number\n",
    "===>> no of bits zeros add at right side to the binary number\n",
    "===>> binary result  --->> decimal result\n",
    "\n",
    "'''\n",
    "print 45 << 2\n"
   ]
  },
  {
   "cell_type": "code",
   "execution_count": 5,
   "metadata": {},
   "outputs": [
    {
     "name": "stdout",
     "output_type": "stream",
     "text": [
      "5\n"
     ]
    }
   ],
   "source": [
    "# biwise rifhtshift   >>\n",
    "#  num   >>  no_bits\n",
    "'''\n",
    "===>> num --->> binary number\n",
    "===>> no of bits remove at right side to the binary number\n",
    "===>> binary result  --->> decimal result\n",
    "\n",
    "'''\n",
    "print 45 >> 3"
   ]
  },
  {
   "cell_type": "code",
   "execution_count": 6,
   "metadata": {},
   "outputs": [
    {
     "name": "stdout",
     "output_type": "stream",
     "text": [
      "-46\n",
      "22\n"
     ]
    }
   ],
   "source": [
    "# bitwise Not    ~num  ---->>>  -(num+1)\n",
    "print ~ 45\n",
    "print ~(-23)"
   ]
  },
  {
   "cell_type": "code",
   "execution_count": 7,
   "metadata": {},
   "outputs": [
    {
     "name": "stdout",
     "output_type": "stream",
     "text": [
      "0b1111111\n",
      "0b1010111\n",
      "0b100100111\n"
     ]
    }
   ],
   "source": [
    "# bin() ---->>  decimal , hexa decimal , octal --->> binary\n",
    "print bin(127)\n",
    "print bin(0o127)\n",
    "print bin(0x127)"
   ]
  },
  {
   "cell_type": "code",
   "execution_count": 8,
   "metadata": {},
   "outputs": [
    {
     "name": "stdout",
     "output_type": "stream",
     "text": [
      "0b1111011\n"
     ]
    }
   ],
   "source": [
    "num = 123\n",
    "print bin(num)"
   ]
  },
  {
   "cell_type": "code",
   "execution_count": 9,
   "metadata": {},
   "outputs": [
    {
     "name": "stdout",
     "output_type": "stream",
     "text": [
      "0x7b\n",
      "<type 'str'>\n"
     ]
    }
   ],
   "source": [
    "num = 123\n",
    "hexa = hex(num)\n",
    "print hexa\n",
    "print type(hexa)"
   ]
  },
  {
   "cell_type": "code",
   "execution_count": 13,
   "metadata": {},
   "outputs": [
    {
     "name": "stdout",
     "output_type": "stream",
     "text": [
      "0x7b\n",
      "<type 'str'>\n"
     ]
    },
    {
     "ename": "TypeError",
     "evalue": "'str' object cannot be interpreted as an index",
     "output_type": "error",
     "traceback": [
      "\u001b[1;31m---------------------------------------------------------------------------\u001b[0m",
      "\u001b[1;31mTypeError\u001b[0m                                 Traceback (most recent call last)",
      "\u001b[1;32m<ipython-input-13-67bbdb082b68>\u001b[0m in \u001b[0;36m<module>\u001b[1;34m()\u001b[0m\n\u001b[0;32m      3\u001b[0m \u001b[1;32mprint\u001b[0m \u001b[0mhexa\u001b[0m\u001b[1;33m\u001b[0m\u001b[0m\n\u001b[0;32m      4\u001b[0m \u001b[1;32mprint\u001b[0m \u001b[0mtype\u001b[0m\u001b[1;33m(\u001b[0m\u001b[0mhexa\u001b[0m\u001b[1;33m)\u001b[0m\u001b[1;33m\u001b[0m\u001b[0m\n\u001b[1;32m----> 5\u001b[1;33m \u001b[1;32mprint\u001b[0m \u001b[0mbin\u001b[0m\u001b[1;33m(\u001b[0m\u001b[0mhexa\u001b[0m\u001b[1;33m)\u001b[0m\u001b[1;33m\u001b[0m\u001b[0m\n\u001b[0m",
      "\u001b[1;31mTypeError\u001b[0m: 'str' object cannot be interpreted as an index"
     ]
    }
   ],
   "source": [
    "num = 123\n",
    "hexa = hex(num)\n",
    "print hexa\n",
    "print type(hexa)\n",
    "print bin(hexa)"
   ]
  },
  {
   "cell_type": "code",
   "execution_count": null,
   "metadata": {},
   "outputs": [],
   "source": []
  }
 ],
 "metadata": {
  "kernelspec": {
   "display_name": "Python 2",
   "language": "python",
   "name": "python2"
  },
  "language_info": {
   "codemirror_mode": {
    "name": "ipython",
    "version": 2
   },
   "file_extension": ".py",
   "mimetype": "text/x-python",
   "name": "python",
   "nbconvert_exporter": "python",
   "pygments_lexer": "ipython2",
   "version": "2.7.16"
  }
 },
 "nbformat": 4,
 "nbformat_minor": 2
}
