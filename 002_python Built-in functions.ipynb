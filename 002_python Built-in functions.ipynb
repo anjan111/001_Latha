{
 "cells": [
  {
   "cell_type": "code",
   "execution_count": 1,
   "metadata": {},
   "outputs": [
    {
     "name": "stdout",
     "output_type": "stream",
     "text": [
      "enter int : 123\n",
      "123\n",
      "<type 'int'>\n",
      "enter int : 123\n",
      "123\n",
      "<type 'str'>\n"
     ]
    }
   ],
   "source": [
    "# input()\n",
    "# raw_input() <---> input()\n",
    "# print \n",
    "# id() -->> to know the memory loc\n",
    "# type() -->> to know the datatype\n",
    "#### difference between input & raw_input\n",
    "###### take the int data by input & raw_input\n",
    "var = input(\"enter int : \")\n",
    "print var\n",
    "print type(var)\n",
    "var = raw_input(\"enter int : \")\n",
    "print var\n",
    "print type(var)\n"
   ]
  },
  {
   "cell_type": "code",
   "execution_count": 2,
   "metadata": {},
   "outputs": [
    {
     "name": "stdout",
     "output_type": "stream",
     "text": [
      "enter list : [12,56,23]\n",
      "[12, 56, 23]\n",
      "<type 'list'>\n",
      "enter list : [12,56,23]\n",
      "[12,56,23]\n",
      "<type 'str'>\n"
     ]
    }
   ],
   "source": [
    "###### take the list data by input & raw_input\n",
    "var = input(\"enter list : \")\n",
    "print var\n",
    "print type(var)\n",
    "var = raw_input(\"enter list : \")\n",
    "print var\n",
    "print type(var)\n"
   ]
  },
  {
   "cell_type": "code",
   "execution_count": 3,
   "metadata": {},
   "outputs": [
    {
     "name": "stdout",
     "output_type": "stream",
     "text": [
      "enter int : 789\n",
      "789\n",
      "<type 'str'>\n",
      "789\n",
      "<type 'int'>\n"
     ]
    }
   ],
   "source": [
    "#data type conversion\n",
    "# raw_input() --> int -->> str datatype --->> int() --->> int\n",
    "# raw_input() --> flaot -->> str datatype --->> float() --->> float\n",
    "# raw_input() --> complex -->> str datatype --->> complex() --->> complex\n",
    "# raw_input() --> bool -->> str datatype --->> bool() --->> bool\n",
    "\n",
    "# raw_input() --> str -->> str datatype --->> str() --->> str\n",
    "# raw_input() --> list -->> str datatype --->> list() --->> list\n",
    "# raw_input() --> tuple-->> str datatype --->> tuple() --->> tuple\n",
    "# raw_input() --> set -->> str datatype --->> set() --->> set\n",
    "# raw_input() --> dict-->> str datatype --->> dict() --->> dict\n",
    "\n",
    "############ int ##########\n",
    "var = raw_input(\"enter int : \")\n",
    "print var\n",
    "print type(var)\n",
    "var = int(var)\n",
    "print var\n",
    "print type(var)"
   ]
  },
  {
   "cell_type": "code",
   "execution_count": 4,
   "metadata": {},
   "outputs": [
    {
     "name": "stdout",
     "output_type": "stream",
     "text": [
      "enter float : 12.79655\n",
      "12.79655\n",
      "<type 'str'>\n",
      "12.79655\n",
      "<type 'float'>\n"
     ]
    }
   ],
   "source": [
    "############ float ##########\n",
    "var = raw_input(\"enter float : \")\n",
    "print var\n",
    "print type(var)\n",
    "var = float(var)\n",
    "print var\n",
    "print type(var)"
   ]
  },
  {
   "cell_type": "code",
   "execution_count": 5,
   "metadata": {},
   "outputs": [
    {
     "data": {
      "text/plain": [
       "{1: 'soc', 4: 89, 34: 90}"
      ]
     },
     "execution_count": 5,
     "metadata": {},
     "output_type": "execute_result"
    }
   ],
   "source": [
    "dict(((1,\"soc\"),(4,89),(34,90)))"
   ]
  },
  {
   "cell_type": "code",
   "execution_count": null,
   "metadata": {},
   "outputs": [],
   "source": []
  }
 ],
 "metadata": {
  "kernelspec": {
   "display_name": "Python 2",
   "language": "python",
   "name": "python2"
  },
  "language_info": {
   "codemirror_mode": {
    "name": "ipython",
    "version": 2
   },
   "file_extension": ".py",
   "mimetype": "text/x-python",
   "name": "python",
   "nbconvert_exporter": "python",
   "pygments_lexer": "ipython2",
   "version": "2.7.16"
  }
 },
 "nbformat": 4,
 "nbformat_minor": 2
}
