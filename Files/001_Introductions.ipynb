{
 "cells": [
  {
   "cell_type": "code",
   "execution_count": 1,
   "metadata": {},
   "outputs": [
    {
     "name": "stdout",
     "output_type": "stream",
     "text": [
      "enter data : \"I am entering new data into new file\\n\"\n",
      "enter data : \"i am anjan kumar\\nIam from India\\n986545678989654\"\n",
      "BOF& EOF&COF :  0\n",
      "EOF & COF :  49\n",
      "BOF & COF :  0\n",
      "i am anjan kumar\n",
      "Iam from India\n",
      "986545678989654\n",
      "EOF & COF :  49\n",
      "BOF & COF :  0\n",
      "i am \n",
      "COF :  5\n",
      "BOF & COF :  0\n",
      "i am anjan kumar\n",
      "\n",
      "COF :  18\n",
      "Iam from India\n",
      "\n",
      "COF :  34\n",
      "BOF & COF :  0\n",
      "['i am anjan kumar\\n', 'Iam from India\\n', '986545678989654']\n",
      "EOF & COF :  49\n"
     ]
    }
   ],
   "source": [
    "'''\n",
    "fo = open(\"file_name\" , \"mode\")\n",
    "fo.write(data)\n",
    "fo.read() # we can read whole data from file\n",
    "fo.read(N) # we can read only N no of character \n",
    "fo.readline() # we can read only single line\n",
    "fo.readlines()# we can read data as lines wise --->  line is element list\n",
    "fo.tell() # to know the cursor location\n",
    "fo.seek(forward / backward , 0--> BOF/2 --> EOF/1 --> COF)\n",
    "fo.close()\n",
    "'''\n",
    "# Mode\n",
    "'''\n",
    "write   ( w ---> only write  / w+  --> both write & read)\n",
    " ====>>> file is not existed then create a new file\n",
    " ====>>> file is existed with some data then data lost and open the freshly\n",
    "'''\n",
    "# w\n",
    "fo  = open(\"sample1.txt\",\"w\")\n",
    "data = input(\"enter data : \")\n",
    "fo.write(data)\n",
    "fo.close()\n",
    "\n",
    "# w+\n",
    "fo  = open(\"sample2.txt\",\"w+\")\n",
    "data = input(\"enter data : \")\n",
    "\n",
    "print\"BOF& EOF&COF : \",fo.tell()\n",
    "fo.write(data)\n",
    "print\"EOF & COF : \",fo.tell()\n",
    "\n",
    "fo.seek(0,0)# BOF\n",
    "print\"BOF & COF : \",fo.tell()\n",
    "\n",
    "print fo.read()\n",
    "print\"EOF & COF : \",fo.tell()\n",
    "\n",
    "fo.seek(0,0)# BOF\n",
    "print\"BOF & COF : \",fo.tell()\n",
    "\n",
    "print fo.read(5)\n",
    "print\"COF : \",fo.tell() # 5\n",
    "\n",
    "fo.seek(0,0)# BOF\n",
    "print\"BOF & COF : \",fo.tell()# 0\n",
    "\n",
    "print fo.readline()\n",
    "print\"COF : \",fo.tell() # \n",
    "\n",
    "print fo.readline()\n",
    "print\"COF : \",fo.tell() # \n",
    "\n",
    "fo.seek(0,0)# BOF\n",
    "print\"BOF & COF : \",fo.tell()# 0\n",
    "\n",
    "print fo.readlines()\n",
    "print\"EOF & COF : \",fo.tell() # \n",
    "\n",
    "fo.close()"
   ]
  },
  {
   "cell_type": "code",
   "execution_count": 2,
   "metadata": {},
   "outputs": [
    {
     "name": "stdout",
     "output_type": "stream",
     "text": [
      "enter data : \"i am writng  new data\"\n",
      "enter data : \"i am writng  old data\"\n"
     ]
    }
   ],
   "source": [
    "# w\n",
    "fo  = open(\"sample1.txt\",\"w\")\n",
    "data = input(\"enter data : \")\n",
    "fo.write(data)\n",
    "fo.close()\n",
    "\n",
    "# w+\n",
    "fo  = open(\"sample1.txt\",\"w+\")\n",
    "data = input(\"enter data : \")\n",
    "fo.write(data)\n",
    "fo.close()"
   ]
  },
  {
   "cell_type": "code",
   "execution_count": 3,
   "metadata": {},
   "outputs": [
    {
     "name": "stdout",
     "output_type": "stream",
     "text": [
      "enter data : \"1123456\"\n"
     ]
    },
    {
     "ename": "IOError",
     "evalue": "File not open for reading",
     "output_type": "error",
     "traceback": [
      "\u001b[1;31m---------------------------------------------------------------------------\u001b[0m",
      "\u001b[1;31mIOError\u001b[0m                                   Traceback (most recent call last)",
      "\u001b[1;32m<ipython-input-3-8188fc3b9387>\u001b[0m in \u001b[0;36m<module>\u001b[1;34m()\u001b[0m\n\u001b[0;32m      4\u001b[0m \u001b[0mfo\u001b[0m\u001b[1;33m.\u001b[0m\u001b[0mwrite\u001b[0m\u001b[1;33m(\u001b[0m\u001b[0mdata\u001b[0m\u001b[1;33m)\u001b[0m\u001b[1;33m\u001b[0m\u001b[0m\n\u001b[0;32m      5\u001b[0m \u001b[0mfo\u001b[0m\u001b[1;33m.\u001b[0m\u001b[0mseek\u001b[0m\u001b[1;33m(\u001b[0m\u001b[1;36m0\u001b[0m\u001b[1;33m,\u001b[0m\u001b[1;36m0\u001b[0m\u001b[1;33m)\u001b[0m\u001b[1;33m\u001b[0m\u001b[0m\n\u001b[1;32m----> 6\u001b[1;33m \u001b[1;32mprint\u001b[0m \u001b[0mfo\u001b[0m\u001b[1;33m.\u001b[0m\u001b[0mread\u001b[0m\u001b[1;33m(\u001b[0m\u001b[1;33m)\u001b[0m\u001b[1;33m\u001b[0m\u001b[0m\n\u001b[0m\u001b[0;32m      7\u001b[0m \u001b[0mfo\u001b[0m\u001b[1;33m.\u001b[0m\u001b[0mclose\u001b[0m\u001b[1;33m(\u001b[0m\u001b[1;33m)\u001b[0m\u001b[1;33m\u001b[0m\u001b[0m\n",
      "\u001b[1;31mIOError\u001b[0m: File not open for reading"
     ]
    }
   ],
   "source": [
    "# w\n",
    "fo  = open(\"sample1.txt\",\"w\")\n",
    "data = input(\"enter data : \")\n",
    "fo.write(data)\n",
    "fo.seek(0,0)\n",
    "print fo.read()\n",
    "fo.close()"
   ]
  },
  {
   "cell_type": "code",
   "execution_count": null,
   "metadata": {},
   "outputs": [],
   "source": []
  },
  {
   "cell_type": "code",
   "execution_count": null,
   "metadata": {},
   "outputs": [],
   "source": [
    "# append  --> a / a+\n",
    "# a ---> Write at EOF ,\n",
    "# a+ --> we can read from any where from file, but write at end of the file\n"
   ]
  },
  {
   "cell_type": "code",
   "execution_count": 4,
   "metadata": {},
   "outputs": [
    {
     "name": "stdout",
     "output_type": "stream",
     "text": [
      "enter data : \"123456789654321\"\n"
     ]
    },
    {
     "ename": "IOError",
     "evalue": "File not open for reading",
     "output_type": "error",
     "traceback": [
      "\u001b[1;31m---------------------------------------------------------------------------\u001b[0m",
      "\u001b[1;31mIOError\u001b[0m                                   Traceback (most recent call last)",
      "\u001b[1;32m<ipython-input-4-6728d9b4ff1d>\u001b[0m in \u001b[0;36m<module>\u001b[1;34m()\u001b[0m\n\u001b[0;32m      4\u001b[0m \u001b[0mfo\u001b[0m\u001b[1;33m.\u001b[0m\u001b[0mwrite\u001b[0m\u001b[1;33m(\u001b[0m\u001b[0mdata\u001b[0m\u001b[1;33m)\u001b[0m\u001b[1;33m\u001b[0m\u001b[0m\n\u001b[0;32m      5\u001b[0m \u001b[0mfo\u001b[0m\u001b[1;33m.\u001b[0m\u001b[0mseek\u001b[0m\u001b[1;33m(\u001b[0m\u001b[1;36m0\u001b[0m\u001b[1;33m,\u001b[0m\u001b[1;36m0\u001b[0m\u001b[1;33m)\u001b[0m\u001b[1;33m\u001b[0m\u001b[0m\n\u001b[1;32m----> 6\u001b[1;33m \u001b[1;32mprint\u001b[0m \u001b[0mfo\u001b[0m\u001b[1;33m.\u001b[0m\u001b[0mread\u001b[0m\u001b[1;33m(\u001b[0m\u001b[1;33m)\u001b[0m\u001b[1;33m\u001b[0m\u001b[0m\n\u001b[0m\u001b[0;32m      7\u001b[0m \u001b[0mfo\u001b[0m\u001b[1;33m.\u001b[0m\u001b[0mclose\u001b[0m\u001b[1;33m(\u001b[0m\u001b[1;33m)\u001b[0m\u001b[1;33m\u001b[0m\u001b[0m\n",
      "\u001b[1;31mIOError\u001b[0m: File not open for reading"
     ]
    }
   ],
   "source": [
    "# a\n",
    "fo  = open(\"sample3.txt\",\"a\")\n",
    "data = input(\"enter data : \")\n",
    "fo.write(data)\n",
    "fo.seek(0,0)\n",
    "print fo.read()\n",
    "fo.close()"
   ]
  },
  {
   "cell_type": "code",
   "execution_count": 5,
   "metadata": {},
   "outputs": [
    {
     "name": "stdout",
     "output_type": "stream",
     "text": [
      "enter data : \"asdfghjklkjhg\"\n"
     ]
    }
   ],
   "source": [
    "# a\n",
    "fo  = open(\"sample3.txt\",\"a\")\n",
    "data = input(\"enter data : \")\n",
    "fo.write(data)\n",
    "fo.close()"
   ]
  },
  {
   "cell_type": "code",
   "execution_count": 6,
   "metadata": {},
   "outputs": [
    {
     "name": "stdout",
     "output_type": "stream",
     "text": [
      "enter data : \"i am appending mode\"\n",
      "BOF& EOF&COF :  0\n",
      "EOF & COF :  19\n",
      "BOF & COF :  0\n",
      "i am appending mode\n",
      "EOF & COF :  19\n",
      "BOF & COF :  0\n",
      "i am \n",
      "COF :  5\n",
      "BOF & COF :  0\n",
      "i am appending mode\n",
      "COF :  19\n",
      "\n",
      "COF :  19\n",
      "BOF & COF :  0\n",
      "['i am appending mode']\n",
      "EOF & COF :  19\n"
     ]
    }
   ],
   "source": [
    "# a+\n",
    "fo  = open(\"sample4.txt\",\"a+\")\n",
    "data = input(\"enter data : \")\n",
    "\n",
    "print\"BOF& EOF&COF : \",fo.tell()\n",
    "fo.write(data)\n",
    "print\"EOF & COF : \",fo.tell()\n",
    "\n",
    "fo.seek(0,0)# BOF\n",
    "print\"BOF & COF : \",fo.tell()\n",
    "\n",
    "print fo.read()\n",
    "print\"EOF & COF : \",fo.tell()\n",
    "\n",
    "fo.seek(0,0)# BOF\n",
    "print\"BOF & COF : \",fo.tell()\n",
    "\n",
    "print fo.read(5)\n",
    "print\"COF : \",fo.tell() # 5\n",
    "\n",
    "fo.seek(0,0)# BOF\n",
    "print\"BOF & COF : \",fo.tell()# 0\n",
    "\n",
    "print fo.readline()\n",
    "print\"COF : \",fo.tell() # \n",
    "\n",
    "print fo.readline()\n",
    "print\"COF : \",fo.tell() # \n",
    "\n",
    "fo.seek(0,0)# BOF\n",
    "print\"BOF & COF : \",fo.tell()# 0\n",
    "\n",
    "print fo.readlines()\n",
    "print\"EOF & COF : \",fo.tell() # \n",
    "\n",
    "fo.close()"
   ]
  },
  {
   "cell_type": "code",
   "execution_count": 7,
   "metadata": {},
   "outputs": [
    {
     "name": "stdout",
     "output_type": "stream",
     "text": [
      "enter data : \"123763456543\"\n",
      "BOF& EOF&COF :  0\n",
      "EOF & COF :  31\n",
      "BOF & COF :  0\n",
      "i am appending mode123763456543\n",
      "EOF & COF :  31\n",
      "BOF & COF :  0\n",
      "i am \n",
      "COF :  5\n",
      "BOF & COF :  0\n",
      "i am appending mode123763456543\n",
      "COF :  31\n",
      "\n",
      "COF :  31\n",
      "BOF & COF :  0\n",
      "['i am appending mode123763456543']\n",
      "EOF & COF :  31\n"
     ]
    }
   ],
   "source": [
    "# a+\n",
    "fo  = open(\"sample4.txt\",\"a+\")\n",
    "data = input(\"enter data : \")\n",
    "\n",
    "print\"BOF& EOF&COF : \",fo.tell()\n",
    "fo.write(data)\n",
    "print\"EOF & COF : \",fo.tell()\n",
    "\n",
    "fo.seek(0,0)# BOF\n",
    "print\"BOF & COF : \",fo.tell()\n",
    "\n",
    "print fo.read()\n",
    "print\"EOF & COF : \",fo.tell()\n",
    "\n",
    "fo.seek(0,0)# BOF\n",
    "print\"BOF & COF : \",fo.tell()\n",
    "\n",
    "print fo.read(5)\n",
    "print\"COF : \",fo.tell() # 5\n",
    "\n",
    "fo.seek(0,0)# BOF\n",
    "print\"BOF & COF : \",fo.tell()# 0\n",
    "\n",
    "print fo.readline()\n",
    "print\"COF : \",fo.tell() # \n",
    "\n",
    "print fo.readline()\n",
    "print\"COF : \",fo.tell() # \n",
    "\n",
    "fo.seek(0,0)# BOF\n",
    "print\"BOF & COF : \",fo.tell()# 0\n",
    "\n",
    "print fo.readlines()\n",
    "print\"EOF & COF : \",fo.tell() # \n",
    "\n",
    "fo.close()"
   ]
  },
  {
   "cell_type": "code",
   "execution_count": 8,
   "metadata": {},
   "outputs": [
    {
     "ename": "IOError",
     "evalue": "[Errno 2] No such file or directory: 'sample67.txt'",
     "output_type": "error",
     "traceback": [
      "\u001b[1;31m---------------------------------------------------------------------------\u001b[0m",
      "\u001b[1;31mIOError\u001b[0m                                   Traceback (most recent call last)",
      "\u001b[1;32m<ipython-input-8-3d8bd04548be>\u001b[0m in \u001b[0;36m<module>\u001b[1;34m()\u001b[0m\n\u001b[0;32m      2\u001b[0m \u001b[1;31m# r ---> only read\u001b[0m\u001b[1;33m\u001b[0m\u001b[1;33m\u001b[0m\u001b[0m\n\u001b[0;32m      3\u001b[0m \u001b[1;31m# r+ --> both read & write can support , we can modify existing data\u001b[0m\u001b[1;33m\u001b[0m\u001b[1;33m\u001b[0m\u001b[0m\n\u001b[1;32m----> 4\u001b[1;33m \u001b[0mfo\u001b[0m \u001b[1;33m=\u001b[0m \u001b[0mopen\u001b[0m\u001b[1;33m(\u001b[0m\u001b[1;34m\"sample67.txt\"\u001b[0m\u001b[1;33m,\u001b[0m\u001b[1;34m\"r\"\u001b[0m\u001b[1;33m)\u001b[0m\u001b[1;33m\u001b[0m\u001b[0m\n\u001b[0m\u001b[0;32m      5\u001b[0m \u001b[0mfo\u001b[0m\u001b[1;33m.\u001b[0m\u001b[0mclose\u001b[0m\u001b[1;33m(\u001b[0m\u001b[1;33m)\u001b[0m\u001b[1;33m\u001b[0m\u001b[0m\n",
      "\u001b[1;31mIOError\u001b[0m: [Errno 2] No such file or directory: 'sample67.txt'"
     ]
    }
   ],
   "source": [
    "# read ---> r , r+\n",
    "# r ---> only read\n",
    "# r+ --> both read & write can support , we can modify existing data\n",
    "fo = open(\"sample67.txt\",\"r\")\n",
    "fo.close()"
   ]
  },
  {
   "cell_type": "code",
   "execution_count": 9,
   "metadata": {},
   "outputs": [
    {
     "ename": "IOError",
     "evalue": "[Errno 2] No such file or directory: 'sample67.txt'",
     "output_type": "error",
     "traceback": [
      "\u001b[1;31m---------------------------------------------------------------------------\u001b[0m",
      "\u001b[1;31mIOError\u001b[0m                                   Traceback (most recent call last)",
      "\u001b[1;32m<ipython-input-9-80a8eb751101>\u001b[0m in \u001b[0;36m<module>\u001b[1;34m()\u001b[0m\n\u001b[1;32m----> 1\u001b[1;33m \u001b[0mfo\u001b[0m \u001b[1;33m=\u001b[0m \u001b[0mopen\u001b[0m\u001b[1;33m(\u001b[0m\u001b[1;34m\"sample67.txt\"\u001b[0m\u001b[1;33m,\u001b[0m\u001b[1;34m\"r+\"\u001b[0m\u001b[1;33m)\u001b[0m\u001b[1;33m\u001b[0m\u001b[0m\n\u001b[0m\u001b[0;32m      2\u001b[0m \u001b[0mfo\u001b[0m\u001b[1;33m.\u001b[0m\u001b[0mclose\u001b[0m\u001b[1;33m(\u001b[0m\u001b[1;33m)\u001b[0m\u001b[1;33m\u001b[0m\u001b[0m\n",
      "\u001b[1;31mIOError\u001b[0m: [Errno 2] No such file or directory: 'sample67.txt'"
     ]
    }
   ],
   "source": [
    "fo = open(\"sample67.txt\",\"r+\")\n",
    "fo.close()"
   ]
  },
  {
   "cell_type": "code",
   "execution_count": 12,
   "metadata": {},
   "outputs": [
    {
     "name": "stdout",
     "output_type": "stream",
     "text": [
      "i am anjan kumar\n",
      "\n",
      "['Iam from India\\n', '986545678989654']\n",
      "i am anjan kumar\n",
      "Iam from India\n",
      "986545678989654\n",
      "i am anjan\n",
      "['i am anjan kumar\\n', 'Iam from India\\n', '986545678989654']\n"
     ]
    }
   ],
   "source": [
    "fo = open(\"sample2.txt\",\"r\")\n",
    "print fo.readline()\n",
    "print fo.readlines()\n",
    "fo.seek(0,0)\n",
    "print fo.read()\n",
    "fo.seek(0,0)\n",
    "print fo.read(10)\n",
    "\n",
    "fo.seek(0,0)\n",
    "print fo.readlines()\n",
    "fo.close()"
   ]
  },
  {
   "cell_type": "code",
   "execution_count": 13,
   "metadata": {},
   "outputs": [
    {
     "name": "stdout",
     "output_type": "stream",
     "text": [
      "i am anjan kumar\n",
      "Iam from India\n",
      "986545678989654\n",
      "enter some \"12345\"\n"
     ]
    },
    {
     "ename": "IOError",
     "evalue": "File not open for writing",
     "output_type": "error",
     "traceback": [
      "\u001b[1;31m---------------------------------------------------------------------------\u001b[0m",
      "\u001b[1;31mIOError\u001b[0m                                   Traceback (most recent call last)",
      "\u001b[1;32m<ipython-input-13-0e97b485bb22>\u001b[0m in \u001b[0;36m<module>\u001b[1;34m()\u001b[0m\n\u001b[0;32m      4\u001b[0m \u001b[0mdata\u001b[0m \u001b[1;33m=\u001b[0m \u001b[0minput\u001b[0m\u001b[1;33m(\u001b[0m\u001b[1;34m\"enter some \"\u001b[0m\u001b[1;33m)\u001b[0m\u001b[1;33m\u001b[0m\u001b[0m\n\u001b[0;32m      5\u001b[0m \u001b[0mfo\u001b[0m\u001b[1;33m.\u001b[0m\u001b[0mseek\u001b[0m\u001b[1;33m(\u001b[0m\u001b[1;36m5\u001b[0m\u001b[1;33m,\u001b[0m\u001b[1;36m0\u001b[0m\u001b[1;33m)\u001b[0m\u001b[1;33m\u001b[0m\u001b[0m\n\u001b[1;32m----> 6\u001b[1;33m \u001b[0mfo\u001b[0m\u001b[1;33m.\u001b[0m\u001b[0mwrite\u001b[0m\u001b[1;33m(\u001b[0m\u001b[0mdata\u001b[0m\u001b[1;33m)\u001b[0m\u001b[1;33m\u001b[0m\u001b[0m\n\u001b[0m\u001b[0;32m      7\u001b[0m \u001b[0mfo\u001b[0m\u001b[1;33m.\u001b[0m\u001b[0mseek\u001b[0m\u001b[1;33m(\u001b[0m\u001b[1;36m0\u001b[0m\u001b[1;33m,\u001b[0m\u001b[1;36m0\u001b[0m\u001b[1;33m)\u001b[0m\u001b[1;33m\u001b[0m\u001b[0m\n\u001b[0;32m      8\u001b[0m \u001b[1;32mprint\u001b[0m \u001b[0mfo\u001b[0m\u001b[1;33m.\u001b[0m\u001b[0mread\u001b[0m\u001b[1;33m(\u001b[0m\u001b[1;33m)\u001b[0m\u001b[1;33m\u001b[0m\u001b[0m\n",
      "\u001b[1;31mIOError\u001b[0m: File not open for writing"
     ]
    }
   ],
   "source": [
    "fo = open(\"sample2.txt\",\"r\")\n",
    "print fo.read()\n",
    "\n",
    "data = input(\"enter some \")\n",
    "fo.seek(5,0)\n",
    "fo.write(data)\n",
    "fo.seek(0,0)\n",
    "print fo.read()\n",
    "fo.close()"
   ]
  },
  {
   "cell_type": "code",
   "execution_count": 14,
   "metadata": {},
   "outputs": [
    {
     "name": "stdout",
     "output_type": "stream",
     "text": [
      "i am anjan kumar\n",
      "Iam from India\n",
      "986545678989654\n",
      "enter some \"123456\"\n",
      "i am 123456kumar\n",
      "Iam from India\n",
      "986545678989654\n"
     ]
    }
   ],
   "source": [
    "fo = open(\"sample2.txt\",\"r+\")\n",
    "print fo.read()\n",
    "\n",
    "data = input(\"enter some \")\n",
    "fo.seek(5,0)\n",
    "fo.write(data)\n",
    "fo.seek(0,0)\n",
    "print fo.read()\n",
    "fo.close()"
   ]
  },
  {
   "cell_type": "code",
   "execution_count": null,
   "metadata": {},
   "outputs": [],
   "source": []
  }
 ],
 "metadata": {
  "kernelspec": {
   "display_name": "Python 2",
   "language": "python",
   "name": "python2"
  },
  "language_info": {
   "codemirror_mode": {
    "name": "ipython",
    "version": 2
   },
   "file_extension": ".py",
   "mimetype": "text/x-python",
   "name": "python",
   "nbconvert_exporter": "python",
   "pygments_lexer": "ipython2",
   "version": "2.7.16"
  }
 },
 "nbformat": 4,
 "nbformat_minor": 2
}
