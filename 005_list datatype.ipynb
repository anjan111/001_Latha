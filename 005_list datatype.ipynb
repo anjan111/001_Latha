{
 "cells": [
  {
   "cell_type": "code",
   "execution_count": 1,
   "metadata": {},
   "outputs": [
    {
     "name": "stdout",
     "output_type": "stream",
     "text": [
      "[12, 23.4, (6+4j), True, None, 'soc', [1, 2, 3], (1, 2, 3), set([1, 2, 3]), {12: '45'}]\n",
      "<type 'list'>\n"
     ]
    }
   ],
   "source": [
    "# list\n",
    "'''\n",
    "===>>> collection of dissimilar datatype elements with in []\n",
    "'''\n",
    "var = [12 , 23.4 , 6+4j , True,None,\"soc\",[1,2,3],(1,2,3),{1,2,3},{12:\"45\"}]\n",
    "print var\n",
    "print type(var)"
   ]
  },
  {
   "cell_type": "code",
   "execution_count": 2,
   "metadata": {},
   "outputs": [
    {
     "name": "stdout",
     "output_type": "stream",
     "text": [
      "[12, 23.4, (6+4j), True, None, 'soc', [1, 2, 3], (1, 2, 3), set([1, 2, 3]), {12: '45'}]\n",
      "positive indexing\n",
      "12\n",
      "23.4\n",
      "(6+4j)\n",
      "True\n",
      "None\n",
      "soc\n",
      "{12: '45'}\n",
      "Negative indexing\n",
      "{12: '45'}\n",
      "set([1, 2, 3])\n",
      "(1, 2, 3)\n",
      "[1, 2, 3]\n",
      "12\n"
     ]
    }
   ],
   "source": [
    "# list indexing\n",
    "var = [12 , 23.4 , 6+4j , True,None,\"soc\",[1,2,3],(1,2,3),{1,2,3},{12:\"45\"}]\n",
    "print var\n",
    "print \"positive indexing\"\n",
    "print var[0]\n",
    "print var[1]\n",
    "print var[2]\n",
    "print var[3]\n",
    "print var[4]\n",
    "print var[5]\n",
    "print var[9]\n",
    "print \"Negative indexing\"\n",
    "print var[-1]\n",
    "print var[-2]\n",
    "print var[-3]\n",
    "print var[-4]\n",
    "print var[-10]"
   ]
  },
  {
   "cell_type": "code",
   "execution_count": 3,
   "metadata": {},
   "outputs": [
    {
     "name": "stdout",
     "output_type": "stream",
     "text": [
      "[(6+4j), True, None, 'soc', [1, 2, 3], (1, 2, 3)]\n",
      "[12, 23.4, (6+4j), True, None, 'soc', [1, 2, 3], (1, 2, 3)]\n",
      "[(6+4j), True, None, 'soc', [1, 2, 3], (1, 2, 3), set([1, 2, 3]), {12: '45'}]\n"
     ]
    }
   ],
   "source": [
    "# list slicing \n",
    "var = [12 , 23.4 , 6+4j , True,None,\"soc\",[1,2,3],(1,2,3),{1,2,3},{12:\"45\"}]\n",
    "print var[2:8]\n",
    "print var[:8]# start ---> 0\n",
    "print var[2:]# stop ----> len of list"
   ]
  },
  {
   "cell_type": "code",
   "execution_count": 4,
   "metadata": {},
   "outputs": [
    {
     "name": "stdout",
     "output_type": "stream",
     "text": [
      "[(6+4j), 'soc', set([1, 2, 3])]\n",
      "[12, True, [1, 2, 3]]\n",
      "[True, [1, 2, 3], {12: '45'}]\n",
      "[True, None, 'soc', [1, 2, 3]]\n"
     ]
    }
   ],
   "source": [
    "# list dicing \n",
    "var = [12 , 23.4 , 6+4j , True,None,\"soc\",[1,2,3],(1,2,3),{1,2,3},{12:\"45\"}]\n",
    "print var[ 2: 9:3 ] # 2,5,8\n",
    "print var[ : 9: 3] # 0,3,6 #### start ---> 0\n",
    "print var[3::3]# 3,6,9  ####### stop ----> len of list\n",
    "print var[3:7:]# 3,4,5,6 ###### step  ----> 1"
   ]
  },
  {
   "cell_type": "code",
   "execution_count": 5,
   "metadata": {},
   "outputs": [
    {
     "name": "stdout",
     "output_type": "stream",
     "text": [
      "[1, 8, 3, 6]\n",
      "8\n",
      "[1, 3]\n",
      "[90, 34, 56, 78]\n"
     ]
    }
   ],
   "source": [
    "# list nested indexing\n",
    "var = [[1,8,3,6],[90,34,56,78]]\n",
    "print var[0]# [1,8,3,6]\n",
    "print var[0][1]#\n",
    "print var[0][0:4:2]\n",
    "print var[1]# [90,34,56,78]\n"
   ]
  },
  {
   "cell_type": "code",
   "execution_count": 6,
   "metadata": {},
   "outputs": [
    {
     "name": "stdout",
     "output_type": "stream",
     "text": [
      "[4, 6, 7, 45]\n",
      "[4, 6, 456, 45]\n"
     ]
    }
   ],
   "source": [
    "var = [4,6,7,45]\n",
    "print var\n",
    "var[2]=456\n",
    "print var"
   ]
  },
  {
   "cell_type": "code",
   "execution_count": 7,
   "metadata": {},
   "outputs": [
    {
     "name": "stdout",
     "output_type": "stream",
     "text": [
      "5\n",
      "90\n",
      "3\n",
      "195\n"
     ]
    }
   ],
   "source": [
    "var = [12,67,3,90,23]\n",
    "print len(var)\n",
    "print max(var)\n",
    "print min(var)\n",
    "print sum(var)"
   ]
  },
  {
   "cell_type": "code",
   "execution_count": 8,
   "metadata": {},
   "outputs": [
    {
     "name": "stdout",
     "output_type": "stream",
     "text": [
      "[1, 2, 3, 7, 8, 9]\n",
      "[1, 2, 3, 7, 8, 9]\n"
     ]
    }
   ],
   "source": [
    "a = [1,2,3]\n",
    "b = [7,8,9]\n",
    "print a + b\n",
    "print a.__add__(b)"
   ]
  },
  {
   "cell_type": "code",
   "execution_count": 9,
   "metadata": {},
   "outputs": [
    {
     "name": "stdout",
     "output_type": "stream",
     "text": [
      "[1, 2, 3, 1, 2, 3, 1, 2, 3, 1, 2, 3]\n",
      "[1, 2, 3, 1, 2, 3, 1, 2, 3, 1, 2, 3]\n"
     ]
    }
   ],
   "source": [
    "a = [1,2,3]\n",
    "print a * 4\n",
    "print a.__mul__(4)"
   ]
  },
  {
   "cell_type": "code",
   "execution_count": 10,
   "metadata": {},
   "outputs": [
    {
     "name": "stdout",
     "output_type": "stream",
     "text": [
      "[4, 5, 9]\n",
      "[4, 5, 9, 45]\n",
      "[4, 5, 9, 45, 100]\n"
     ]
    }
   ],
   "source": [
    "var = [4,5,9]\n",
    "print var\n",
    "var.append(45)\n",
    "print var\n",
    "var.append(100)\n",
    "print var"
   ]
  },
  {
   "cell_type": "code",
   "execution_count": 11,
   "metadata": {},
   "outputs": [
    {
     "name": "stdout",
     "output_type": "stream",
     "text": [
      "['__add__', '__class__', '__contains__', '__delattr__', '__delitem__', '__delslice__', '__doc__', '__eq__', '__format__', '__ge__', '__getattribute__', '__getitem__', '__getslice__', '__gt__', '__hash__', '__iadd__', '__imul__', '__init__', '__iter__', '__le__', '__len__', '__lt__', '__mul__', '__ne__', '__new__', '__reduce__', '__reduce_ex__', '__repr__', '__reversed__', '__rmul__', '__setattr__', '__setitem__', '__setslice__', '__sizeof__', '__str__', '__subclasshook__', 'append', 'count', 'extend', 'index', 'insert', 'pop', 'remove', 'reverse', 'sort']\n"
     ]
    }
   ],
   "source": [
    "print dir(list)"
   ]
  },
  {
   "cell_type": "code",
   "execution_count": 12,
   "metadata": {},
   "outputs": [
    {
     "name": "stdout",
     "output_type": "stream",
     "text": [
      "3\n",
      "1\n",
      "0\n"
     ]
    }
   ],
   "source": [
    "var = [90,45,34,90,23,90]\n",
    "print var.count(90)\n",
    "print var.count(23)\n",
    "print var.count(100)"
   ]
  },
  {
   "cell_type": "code",
   "execution_count": 13,
   "metadata": {},
   "outputs": [
    {
     "name": "stdout",
     "output_type": "stream",
     "text": [
      "2\n",
      "0\n"
     ]
    }
   ],
   "source": [
    "var = [90,45,34,99]\n",
    "print var.index(34) # 2\n",
    "print var.index(90) # 0"
   ]
  },
  {
   "cell_type": "code",
   "execution_count": 14,
   "metadata": {},
   "outputs": [
    {
     "name": "stdout",
     "output_type": "stream",
     "text": [
      "[5, 6, 7]\n",
      "[3, 5, 2]\n",
      "[5, 6, 7, 3, 5, 2]\n",
      "[3, 5, 2]\n"
     ]
    }
   ],
   "source": [
    "a = [5,6,7]\n",
    "b = [3,5,2]\n",
    "print a\n",
    "print b\n",
    "a.extend(b)\n",
    "print a\n",
    "print b"
   ]
  },
  {
   "cell_type": "code",
   "execution_count": 15,
   "metadata": {},
   "outputs": [
    {
     "name": "stdout",
     "output_type": "stream",
     "text": [
      "[45, 90, 34, 78]\n",
      "[45, 90, 100, 34, 78]\n"
     ]
    }
   ],
   "source": [
    "var= [45,90,34,78]\n",
    "print var\n",
    "var.insert(2,100)\n",
    "print var"
   ]
  },
  {
   "cell_type": "code",
   "execution_count": 16,
   "metadata": {},
   "outputs": [
    {
     "name": "stdout",
     "output_type": "stream",
     "text": [
      "[90, 34, 78, 23, 3, 89, 12]\n",
      "12\n",
      "[90, 34, 78, 23, 3, 89]\n",
      "89\n",
      "[90, 34, 78, 23, 3]\n",
      "78\n",
      "[90, 34, 23, 3]\n"
     ]
    }
   ],
   "source": [
    "a = [90,34,78,23,3,89,12]\n",
    "print a\n",
    "print a.pop()\n",
    "print a\n",
    "print a.pop()\n",
    "print a\n",
    "print a.pop(2)\n",
    "print a\n"
   ]
  },
  {
   "cell_type": "code",
   "execution_count": 17,
   "metadata": {},
   "outputs": [
    {
     "name": "stdout",
     "output_type": "stream",
     "text": [
      "[90, 67, 45, 78, 23]\n",
      "[90, 67, 78, 23]\n",
      "[90, 78, 23]\n"
     ]
    },
    {
     "ename": "ValueError",
     "evalue": "list.remove(x): x not in list",
     "output_type": "error",
     "traceback": [
      "\u001b[1;31m---------------------------------------------------------------------------\u001b[0m",
      "\u001b[1;31mValueError\u001b[0m                                Traceback (most recent call last)",
      "\u001b[1;32m<ipython-input-17-fccdbfa1a4cc>\u001b[0m in \u001b[0;36m<module>\u001b[1;34m()\u001b[0m\n\u001b[0;32m      5\u001b[0m \u001b[0ma\u001b[0m\u001b[1;33m.\u001b[0m\u001b[0mremove\u001b[0m\u001b[1;33m(\u001b[0m\u001b[1;36m67\u001b[0m\u001b[1;33m)\u001b[0m\u001b[1;33m\u001b[0m\u001b[0m\n\u001b[0;32m      6\u001b[0m \u001b[1;32mprint\u001b[0m \u001b[0ma\u001b[0m\u001b[1;33m\u001b[0m\u001b[0m\n\u001b[1;32m----> 7\u001b[1;33m \u001b[0ma\u001b[0m\u001b[1;33m.\u001b[0m\u001b[0mremove\u001b[0m\u001b[1;33m(\u001b[0m\u001b[1;36m100\u001b[0m\u001b[1;33m)\u001b[0m\u001b[1;33m\u001b[0m\u001b[0m\n\u001b[0m\u001b[0;32m      8\u001b[0m \u001b[1;32mprint\u001b[0m \u001b[0ma\u001b[0m\u001b[1;33m\u001b[0m\u001b[0m\n",
      "\u001b[1;31mValueError\u001b[0m: list.remove(x): x not in list"
     ]
    }
   ],
   "source": [
    "a = [90,67,45,78,23]\n",
    "print a\n",
    "a.remove(45)\n",
    "print a\n",
    "a.remove(67)\n",
    "print a\n",
    "a.remove(100)\n",
    "print a"
   ]
  },
  {
   "cell_type": "code",
   "execution_count": 18,
   "metadata": {},
   "outputs": [
    {
     "name": "stdout",
     "output_type": "stream",
     "text": [
      "[56, 23, 90, 12, 89, 34]\n",
      "[34, 89, 12, 90, 23, 56]\n",
      "[12, 23, 34, 56, 89, 90]\n",
      "[90, 89, 56, 34, 23, 12]\n"
     ]
    }
   ],
   "source": [
    "a = [56,23,90,12,89,34]\n",
    "print a\n",
    "a.reverse()\n",
    "print a\n",
    "a.sort()\n",
    "print a\n",
    "a.reverse()\n",
    "print a"
   ]
  },
  {
   "cell_type": "code",
   "execution_count": null,
   "metadata": {},
   "outputs": [],
   "source": []
  }
 ],
 "metadata": {
  "kernelspec": {
   "display_name": "Python 2",
   "language": "python",
   "name": "python2"
  },
  "language_info": {
   "codemirror_mode": {
    "name": "ipython",
    "version": 2
   },
   "file_extension": ".py",
   "mimetype": "text/x-python",
   "name": "python",
   "nbconvert_exporter": "python",
   "pygments_lexer": "ipython2",
   "version": "2.7.16"
  }
 },
 "nbformat": 4,
 "nbformat_minor": 2
}
