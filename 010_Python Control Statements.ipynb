{
 "cells": [
  {
   "cell_type": "code",
   "execution_count": 1,
   "metadata": {},
   "outputs": [
    {
     "name": "stdout",
     "output_type": "stream",
     "text": [
      "enter a : 6\n",
      "enter b : 9\n",
      "enter c : 9\n",
      "peri :  24  meter\n"
     ]
    }
   ],
   "source": [
    "# Statement\n",
    "'''\n",
    "===>> An instruction which can be executable with in the program\n",
    "'''\n",
    "# Program \n",
    "'''\n",
    "===>> Collectionof statements to do any one specific task\n",
    "===>> The program can be executed line by line \n",
    "'''\n",
    "# Control Statements\n",
    "'''\n",
    "===>> To Change the flow of the execution of the program\n",
    "===>> There are 3 types\n",
    "1. Conditional Statements\n",
    "2. Looping Statements\n",
    "3. Control Keywords\n",
    "'''\n",
    "# Conditional Statement\n",
    "'''\n",
    "===>>> The block of statements  / single statement execution can depends on condition\n",
    "1. simple if\n",
    "2. if and else\n",
    "3. elif ladder\n",
    "4. Nested if\n",
    "'''\n",
    "# simple if \n",
    "'''\n",
    "start\n",
    "-----\n",
    "if ( Cond ):\n",
    "    Task\n",
    "    ----\n",
    "    ----\n",
    "    ----\n",
    "stop\n",
    "----\n",
    "----\n",
    "\n",
    "'''\n",
    "# wap find the area of triangle when perimeter morethan 25 meter\n",
    "a = input(\"enter a : \")\n",
    "b = input(\"enter b : \")\n",
    "c = input(\"enter c : \")\n",
    "peri = a+b+c\n",
    "if( peri > 25):\n",
    "    s = peri / 2\n",
    "    area = (s*(s-a)*(s-b)*(s-c))**0.5\n",
    "    print \"area : \",area,\" sq m\"\n",
    "print \"peri : \",peri, \" meter\""
   ]
  },
  {
   "cell_type": "code",
   "execution_count": 2,
   "metadata": {},
   "outputs": [
    {
     "name": "stdout",
     "output_type": "stream",
     "text": [
      "enter a : 10\n",
      "enter b : 15\n",
      "enter c : 13\n",
      "area :  64.0624695122  sq m\n",
      "peri :  38  meter\n"
     ]
    }
   ],
   "source": [
    "# wap find the area of triangle when perimeter morethan 25 meter\n",
    "a = input(\"enter a : \")\n",
    "b = input(\"enter b : \")\n",
    "c = input(\"enter c : \")\n",
    "peri = a+b+c\n",
    "if( peri > 25):\n",
    "    s = peri / 2\n",
    "    area = (s*(s-a)*(s-b)*(s-c))**0.5\n",
    "    print \"area : \",area,\" sq m\"\n",
    "print \"peri : \",peri, \" meter\""
   ]
  },
  {
   "cell_type": "code",
   "execution_count": 3,
   "metadata": {},
   "outputs": [
    {
     "name": "stdout",
     "output_type": "stream",
     "text": [
      "enter side  : 9\n",
      "area :  81  sq m\n"
     ]
    }
   ],
   "source": [
    "# wap find perimter of sqaure when area is even \n",
    "side = input(\"enter side  : \")\n",
    "area = side ** 2\n",
    "if(area % 2 == 0):\n",
    "    peri =  4 * side\n",
    "    print \"peri : \",peri,\" meter\"\n",
    "print \"area : \",area,\" sq m\""
   ]
  },
  {
   "cell_type": "code",
   "execution_count": 4,
   "metadata": {},
   "outputs": [
    {
     "name": "stdout",
     "output_type": "stream",
     "text": [
      "enter side  : 8\n",
      "peri :  32  meter\n",
      "area :  64  sq m\n"
     ]
    }
   ],
   "source": [
    "# wap find perimter of sqaure when area is even \n",
    "side = input(\"enter side  : \")\n",
    "area = side ** 2\n",
    "if(area % 2 == 0):\n",
    "    peri =  4 * side\n",
    "    print \"peri : \",peri,\" meter\"\n",
    "print \"area : \",area,\" sq m\""
   ]
  },
  {
   "cell_type": "code",
   "execution_count": 6,
   "metadata": {},
   "outputs": [
    {
     "name": "stdout",
     "output_type": "stream",
     "text": [
      "enter a : 45\n",
      "enter b : 89\n",
      " big is b :  89\n",
      " Task over\n"
     ]
    }
   ],
   "source": [
    "# if and else\n",
    "'''\n",
    "start\n",
    "-----\n",
    "if ( con ):\n",
    "    Task1\n",
    "    -----\n",
    "    -----\n",
    "else:\n",
    "    Task2\n",
    "    -----\n",
    "    -----\n",
    "stop\n",
    "----\n",
    "---\n",
    "'''\n",
    "# wap find the biggest number from 2 numbers\n",
    "a = input(\"enter a : \")\n",
    "b = input(\"enter b : \")\n",
    "if(a < b ):\n",
    "    print \" big is b : \",b\n",
    "else:\n",
    "    print \" big is a : \",a\n",
    "print\" Task over\""
   ]
  },
  {
   "cell_type": "code",
   "execution_count": 7,
   "metadata": {},
   "outputs": [
    {
     "name": "stdout",
     "output_type": "stream",
     "text": [
      "enter a : 75\n",
      "enter b : 45\n",
      " big is a :  75\n",
      " Task over\n"
     ]
    }
   ],
   "source": [
    "# wap find the biggest number from 2 numbers\n",
    "a = input(\"enter a : \")\n",
    "b = input(\"enter b : \")\n",
    "if(a < b ):\n",
    "    print \" big is b : \",b\n",
    "else:\n",
    "    print \" big is a : \",a\n",
    "print\" Task over\""
   ]
  },
  {
   "cell_type": "code",
   "execution_count": null,
   "metadata": {},
   "outputs": [],
   "source": [
    "# wap find the area of cube when side is divisble by  5 otherwise find the volume of the cube"
   ]
  },
  {
   "cell_type": "code",
   "execution_count": 1,
   "metadata": {},
   "outputs": [
    {
     "name": "stdout",
     "output_type": "stream",
     "text": [
      "enter exp in years : 0\n",
      "Please provide proper exp\n"
     ]
    }
   ],
   "source": [
    "# elif ladder \n",
    "'''\n",
    "if( C1):\n",
    "    Task1\n",
    "elif(C2):\n",
    "    Task2\n",
    "elif(C3):\n",
    "    Task3\n",
    "elif(C4):\n",
    "    Task4\n",
    "elif(C5):\n",
    "    Task5\n",
    "elif(C6):\n",
    "    Task6\n",
    "\n",
    "----\n",
    "elif(Cn):\n",
    "    Taskn\n",
    "else:\n",
    "    Taskd\n",
    "'''\n",
    "#wap fix the salary based years of exp\n",
    "exp = input(\"enter exp in years : \")\n",
    "if(exp >0 and exp <=2):\n",
    "    print \"Salary : 3.2 L PA\"\n",
    "elif(exp > 2 and exp <=4):\n",
    "    print \"Salary : 6.8 L PA\"\n",
    "elif(exp > 4 and exp <=8):\n",
    "    print \"Salary : 12.5 L PA\"\n",
    "elif(exp > 8 and exp <=15):\n",
    "    print \"Salary : 25 L PA\"\n",
    "elif(exp > 15 and exp <=25):\n",
    "    print \"Salary : 50 L PA\"\n",
    "elif(exp > 25):\n",
    "    print \"Salary : 1 Cr PA\"\n",
    "else:\n",
    "    print \"Please provide proper exp\""
   ]
  },
  {
   "cell_type": "code",
   "execution_count": 2,
   "metadata": {},
   "outputs": [
    {
     "name": "stdout",
     "output_type": "stream",
     "text": [
      "enter exp in years : 10\n",
      "Salary : 25 L PA\n"
     ]
    }
   ],
   "source": [
    "#wap fix the salary based years of exp\n",
    "exp = input(\"enter exp in years : \")\n",
    "if(exp >0 and exp <=2):\n",
    "    print \"Salary : 3.2 L PA\"\n",
    "elif(exp > 2 and exp <=4):\n",
    "    print \"Salary : 6.8 L PA\"\n",
    "elif(exp > 4 and exp <=8):\n",
    "    print \"Salary : 12.5 L PA\"\n",
    "elif(exp > 8 and exp <=15):\n",
    "    print \"Salary : 25 L PA\"\n",
    "elif(exp > 15 and exp <=25):\n",
    "    print \"Salary : 50 L PA\"\n",
    "elif(exp > 25):\n",
    "    print \"Salary : 1 Cr PA\"\n",
    "else:\n",
    "    print \"Please provide proper exp\""
   ]
  },
  {
   "cell_type": "code",
   "execution_count": 4,
   "metadata": {},
   "outputs": [
    {
     "name": "stdout",
     "output_type": "stream",
     "text": [
      "enter exp in years : 10\n",
      "Salary :25 L PA\n"
     ]
    }
   ],
   "source": [
    "exp = input(\"enter exp in years : \")\n",
    "if(exp > 25):\n",
    "    print \"Salary : 1 Cr PA\"\n",
    "elif(exp > 15):\n",
    "    print \"Salary : 50 L PA\"\n",
    "elif(exp > 8):\n",
    "    print \"Salary :25 L PA\"\n",
    "elif(exp > 4):\n",
    "    print \"Salary : 12 L PA \"\n",
    "elif(exp > 2):\n",
    "    print \"Salary :6.8 L PA\"\n",
    "elif(exp > 0):\n",
    "    print \"Salary : 3.2 L PA\"\n",
    "else:\n",
    "    print \"Please provide proper exp\""
   ]
  },
  {
   "cell_type": "code",
   "execution_count": null,
   "metadata": {},
   "outputs": [],
   "source": [
    "# wap fix the grade based student percentage\n",
    "# A with distenction   ---> more than 70%\n",
    "# more than 60%  ------>> A grade\n",
    "# more than 50%  ------> B Grade\n",
    "# more than 40 ------->  C Grade\n",
    "# more than 35 ------> D Grade\n",
    "# lessthan  35 more than 0  ---->  Write one more time\n",
    "# give the proper percentage"
   ]
  },
  {
   "cell_type": "code",
   "execution_count": 5,
   "metadata": {},
   "outputs": [
    {
     "name": "stdout",
     "output_type": "stream",
     "text": [
      "enter a : 78\n",
      "enter b : 45\n",
      "enter c : 89\n",
      "small is b :  45\n"
     ]
    }
   ],
   "source": [
    "#Nested if\n",
    "'''\n",
    "===>> One any conditional block which contains any one conditional statement\n",
    "if ---> if , if - else , elif ladder\n",
    "elif -> if , if - else , elif ladder\n",
    "else -> if , if -else , elif ladder\n",
    "'''\n",
    "# wap find the smallest number from 3 numbers\n",
    "a = input(\"enter a : \")\n",
    "b = input(\"enter b : \")\n",
    "c = input(\"enter c : \")\n",
    "if(a < b):\n",
    "    if(a < c):\n",
    "        print \"small is a : \",a\n",
    "    else:\n",
    "        print \"small is c : \",c\n",
    "else:\n",
    "    if(b < c):\n",
    "        print \"small is b : \",b\n",
    "    else:\n",
    "        print  \"small is c : \",c"
   ]
  },
  {
   "cell_type": "code",
   "execution_count": null,
   "metadata": {},
   "outputs": [],
   "source": [
    "# WAP find the biggest from 3 numbers\n",
    "# wap given year leap or not\n",
    "'''\n",
    "1900 --->> not leap --->>\n",
    "2000 --->>  leap\n",
    "2004 --->   leap\n",
    "2005 ---> not leap\n",
    "'''"
   ]
  },
  {
   "cell_type": "code",
   "execution_count": 1,
   "metadata": {},
   "outputs": [
    {
     "name": "stdout",
     "output_type": "stream",
     "text": [
      "enter num : 5\n",
      "1\n",
      "2\n",
      "3\n",
      "4\n",
      "5\n",
      "while is condition failed\n",
      "Task over\n"
     ]
    }
   ],
   "source": [
    "# Looping statements\n",
    "'''\n",
    "1. while loop\n",
    "2. for loop\n",
    "'''\n",
    "# while loop\n",
    "'''\n",
    "start\n",
    "-----\n",
    "while( Cond ):\n",
    "    Task\n",
    "    ----\n",
    "    ----\n",
    "else:\n",
    "   Task\n",
    "   ----\n",
    "   ----\n",
    "stop\n",
    "----\n",
    "    \n",
    "'''\n",
    "# wap print 1 to 10/ 100/ 300\n",
    "num = input(\"enter num : \")\n",
    "i = 1\n",
    "while(i <= num):\n",
    "    print i\n",
    "    i = i + 1\n",
    "else:\n",
    "    print \"while is condition failed\"\n",
    "print \"Task over\""
   ]
  },
  {
   "cell_type": "code",
   "execution_count": 2,
   "metadata": {},
   "outputs": [
    {
     "name": "stdout",
     "output_type": "stream",
     "text": [
      "enter N : 10\n",
      "sum of 1st  10  Natural numbers :  55\n"
     ]
    }
   ],
   "source": [
    "# wap print the sum of 1st N natural number \n",
    "# 10 --->> 1+2+3+4+5+6+7+8+9+10\n",
    "N = input(\"enter N : \")\n",
    "sum = 0 \n",
    "i = 1\n",
    "while(i <= N ):\n",
    "    sum = sum +i\n",
    "    i = i + 1\n",
    "else:\n",
    "    print \"sum of 1st \",N,\" Natural numbers : \",sum"
   ]
  },
  {
   "cell_type": "code",
   "execution_count": 4,
   "metadata": {},
   "outputs": [
    {
     "name": "stdout",
     "output_type": "stream",
     "text": [
      "enter N : 5\n",
      "factorial of   5  is :  120\n"
     ]
    }
   ],
   "source": [
    "# wap find the factorial of a number\n",
    "N = input(\"enter N : \")\n",
    "fact = 1\n",
    "i = 1\n",
    "while(i <= N ):\n",
    "    fact = fact * i\n",
    "    i = i + 1\n",
    "else:\n",
    "    print \"factorial of  \",N,\" is : \",fact"
   ]
  },
  {
   "cell_type": "code",
   "execution_count": 6,
   "metadata": {},
   "outputs": [
    {
     "name": "stdout",
     "output_type": "stream",
     "text": [
      "enter N : 10\n",
      "factor :  1\n",
      "factor :  2\n",
      "factor :  5\n",
      "factor :  10\n",
      "No of factors to  10  are :  4\n"
     ]
    }
   ],
   "source": [
    "# wap for find the no of factor to a number\n",
    "\n",
    "N = input(\"enter N : \")\n",
    "sum = 0\n",
    "i = 1\n",
    "while(i <= N ):\n",
    "    if ( N %  i == 0):\n",
    "        print \"factor : \",i\n",
    "        sum = sum +1\n",
    "    i = i + 1\n",
    "else:\n",
    "    print \"No of factors to \",N,\" are : \", sum"
   ]
  },
  {
   "cell_type": "code",
   "execution_count": 7,
   "metadata": {},
   "outputs": [
    {
     "name": "stdout",
     "output_type": "stream",
     "text": [
      "enter N : 10\n",
      "factor :  1\n",
      "factor :  2\n",
      "factor :  5\n",
      "factor :  10\n",
      "sum of factors to  10  are :  18\n"
     ]
    }
   ],
   "source": [
    "# wap for find the sum  of factor to a number\n",
    "# 10 ---> 1+ 2+5+10 ---> 18\n",
    "N = input(\"enter N : \")\n",
    "sum = 0\n",
    "i = 1\n",
    "while(i <= N ):\n",
    "    if ( N %  i == 0):\n",
    "        print \"factor : \",i\n",
    "        sum = sum +i\n",
    "    i = i + 1\n",
    "else:\n",
    "    print \"sum of factors to \",N,\" are : \", sum"
   ]
  },
  {
   "cell_type": "code",
   "execution_count": null,
   "metadata": {},
   "outputs": [],
   "source": [
    "# wap find the even factors to any one number\n",
    "# 10 --> 1,2,5,10 ---->>> 2, 10  --"
   ]
  },
  {
   "cell_type": "code",
   "execution_count": null,
   "metadata": {},
   "outputs": [],
   "source": [
    "# wap find the given number is prime or not"
   ]
  },
  {
   "cell_type": "code",
   "execution_count": null,
   "metadata": {},
   "outputs": [],
   "source": [
    "# wap print 1st 10 fibonic elements\n",
    "#  1     1      2      3     5      8    13    21    34     55"
   ]
  },
  {
   "cell_type": "code",
   "execution_count": 1,
   "metadata": {},
   "outputs": [
    {
     "name": "stdout",
     "output_type": "stream",
     "text": [
      "[0, 1, 2, 3, 4, 5, 6, 7, 8, 9]\n",
      "[10, 11, 12, 13, 14, 15, 16, 17, 18, 19]\n",
      "[10, 14, 18, 22, 26]\n"
     ]
    }
   ],
   "source": [
    "print range(10)# [0,1,2,3,4,5,6,7,8,9]\n",
    "print range(10,20)# [10,11,12,13,14,15,16,17,18,19]\n",
    "print range(10,30,4)# [10,14,18,22,26]"
   ]
  },
  {
   "cell_type": "code",
   "execution_count": 2,
   "metadata": {},
   "outputs": [
    {
     "name": "stdout",
     "output_type": "stream",
     "text": [
      "enter list : [12,56.34,23,90]\n",
      "12\n",
      "56.34\n",
      "23\n",
      "90\n",
      "no more update\n"
     ]
    }
   ],
   "source": [
    "# for loop\n",
    "\n",
    "'''\n",
    "for  var  in seq :\n",
    "    Task\n",
    "    ----\n",
    "    ----\n",
    "else:\n",
    "    Task\n",
    "    ----\n",
    "    ----\n",
    "       \n",
    "'''\n",
    "# wap print the ele in a list\n",
    "list  = input(\"enter list : \")\n",
    "for ele in list:\n",
    "    print ele\n",
    "else:\n",
    "    print \"no more update\""
   ]
  },
  {
   "cell_type": "code",
   "execution_count": 3,
   "metadata": {},
   "outputs": [
    {
     "name": "stdout",
     "output_type": "stream",
     "text": [
      "enter list : [12,90,23,90]\n",
      "sum :  215\n"
     ]
    }
   ],
   "source": [
    "# wap find sum of elements in a list\n",
    "list  = input(\"enter list : \")\n",
    "sum = 0\n",
    "for ele in list:\n",
    "    sum = sum +ele\n",
    "else:\n",
    "    print \"sum : \",sum"
   ]
  },
  {
   "cell_type": "code",
   "execution_count": 4,
   "metadata": {},
   "outputs": [
    {
     "name": "stdout",
     "output_type": "stream",
     "text": [
      "enter list : (12,89.23,23,12.0)\n",
      "sum  of int element :  35\n"
     ]
    }
   ],
   "source": [
    "# wap find sum of int  element in a tuple\n",
    "list  = input(\"enter list : \")\n",
    "sum = 0\n",
    "for ele in list:\n",
    "    if(isinstance(ele,int)):\n",
    "        sum = sum +ele\n",
    "else:\n",
    "    print \"sum  of int element : \",sum"
   ]
  },
  {
   "cell_type": "code",
   "execution_count": 5,
   "metadata": {},
   "outputs": [
    {
     "name": "stdout",
     "output_type": "stream",
     "text": [
      "enter num :  5\n",
      "fact :  120\n"
     ]
    }
   ],
   "source": [
    "# wap find the facorial of a number \n",
    "num = input(\"enter num :  \")\n",
    "fact = 1\n",
    "for ele in range(2,num+1):\n",
    "    fact = fact* ele\n",
    "else:\n",
    "    print \"fact : \",fact"
   ]
  },
  {
   "cell_type": "code",
   "execution_count": 6,
   "metadata": {},
   "outputs": [
    {
     "name": "stdout",
     "output_type": "stream",
     "text": [
      "enter num :  10\n",
      "factor :  1\n",
      "factor :  2\n",
      "factor :  5\n",
      "factor :  10\n"
     ]
    }
   ],
   "source": [
    "# wap find the factors to a number \n",
    "num = input(\"enter num :  \")\n",
    "for ele in range(1,num+1):\n",
    "    if(num % ele == 0):\n",
    "        print \"factor : \",ele\n"
   ]
  },
  {
   "cell_type": "code",
   "execution_count": null,
   "metadata": {},
   "outputs": [],
   "source": [
    "# wap find the given number is prime or not"
   ]
  },
  {
   "cell_type": "code",
   "execution_count": null,
   "metadata": {},
   "outputs": [],
   "source": [
    "# wap generate 1st 10  fibonic elements "
   ]
  },
  {
   "cell_type": "code",
   "execution_count": null,
   "metadata": {},
   "outputs": [],
   "source": [
    "# print even numbers from a list "
   ]
  },
  {
   "cell_type": "code",
   "execution_count": 7,
   "metadata": {},
   "outputs": [
    {
     "name": "stdout",
     "output_type": "stream",
     "text": [
      "enter list  : [12,9,3,5,2,9,7]\n",
      "prime:  3\n",
      "prime:  5\n",
      "prime:  2\n",
      "prime:  7\n"
     ]
    }
   ],
   "source": [
    "# print prime numbers from list\n",
    "list = input(\"enter list  : \")\n",
    "for num in list:\n",
    "    f_c = 0\n",
    "    for ele in range(1,num+1):\n",
    "        if(num % ele ==0):\n",
    "            f_c += 1\n",
    "    if(f_c == 2):\n",
    "        print \"prime: \",num\n"
   ]
  },
  {
   "cell_type": "code",
   "execution_count": null,
   "metadata": {},
   "outputs": [],
   "source": [
    "# wap for prime factorial with in a list\n",
    "# [1,5,6,3,4,2] ---> [5,3,2] --> [120 , 6, 2]"
   ]
  }
 ],
 "metadata": {
  "kernelspec": {
   "display_name": "Python 2",
   "language": "python",
   "name": "python2"
  },
  "language_info": {
   "codemirror_mode": {
    "name": "ipython",
    "version": 2
   },
   "file_extension": ".py",
   "mimetype": "text/x-python",
   "name": "python",
   "nbconvert_exporter": "python",
   "pygments_lexer": "ipython2",
   "version": "2.7.16"
  }
 },
 "nbformat": 4,
 "nbformat_minor": 2
}
