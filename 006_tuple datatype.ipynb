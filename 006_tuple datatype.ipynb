{
 "cells": [
  {
   "cell_type": "code",
   "execution_count": 1,
   "metadata": {},
   "outputs": [
    {
     "name": "stdout",
     "output_type": "stream",
     "text": [
      "<type 'tuple'>\n"
     ]
    }
   ],
   "source": [
    "# tuple \n",
    "'''\n",
    "===>> collection of elements with in ()\n",
    "'''\n",
    "var = (12,1.23 , 4+3j , None , False , \"soc\",[1,2,3],(1,2,3),{12,89},{23:345})\n",
    "print type(var)"
   ]
  },
  {
   "cell_type": "code",
   "execution_count": 2,
   "metadata": {},
   "outputs": [
    {
     "name": "stdout",
     "output_type": "stream",
     "text": [
      "Positive Index\n",
      "12\n",
      "1.23\n",
      "(4+3j)\n",
      "None\n",
      "False\n",
      "{23: 345}\n",
      "Negative Indexing\n",
      "{23: 345}\n",
      "set([89, 12])\n",
      "(1, 2, 3)\n",
      "[1, 2, 3]\n",
      "12\n"
     ]
    }
   ],
   "source": [
    "# tuple indexing\n",
    "var = (12,1.23 , 4+3j , None , False , \"soc\",[1,2,3],(1,2,3),{12,89},{23:345})\n",
    "print \"Positive Index\"\n",
    "print var[0]\n",
    "print var[1]\n",
    "print var[2]\n",
    "print var[3]\n",
    "print var[4]\n",
    "print var[9]\n",
    "print \"Negative Indexing\"\n",
    "print var[-1]\n",
    "print var[-2]\n",
    "print var[-3]\n",
    "print var[-4]\n",
    "print var[-10]"
   ]
  },
  {
   "cell_type": "code",
   "execution_count": 3,
   "metadata": {},
   "outputs": [
    {
     "name": "stdout",
     "output_type": "stream",
     "text": [
      "((4+3j), None, False, 'soc', [1, 2, 3])\n",
      "(12, 1.23, (4+3j), None, False, 'soc', [1, 2, 3])\n",
      "((4+3j), None, False, 'soc', [1, 2, 3], (1, 2, 3), set([89, 12]), {23: 345})\n"
     ]
    }
   ],
   "source": [
    "# tuple slicing\n",
    "var = (12,1.23 , 4+3j , None , False , \"soc\",[1,2,3],(1,2,3),{12,89},{23:345})\n",
    "print var[2:7]\n",
    "print var[:7]\n",
    "print var[2:]"
   ]
  },
  {
   "cell_type": "code",
   "execution_count": 4,
   "metadata": {},
   "outputs": [
    {
     "name": "stdout",
     "output_type": "stream",
     "text": [
      "((4+3j), 'soc', set([89, 12]))\n",
      "(12, None, [1, 2, 3])\n",
      "(1.23, False, (1, 2, 3))\n",
      "((4+3j), None, False, 'soc', [1, 2, 3], (1, 2, 3), set([89, 12]))\n"
     ]
    }
   ],
   "source": [
    "# tuple dicing \n",
    "var = (12,1.23 , 4+3j , None , False , \"soc\",[1,2,3],(1,2,3),{12,89},{23:345})\n",
    "print var[2:9:3]\n",
    "print var[:9:3]\n",
    "print var[1: : 3]\n",
    "print var[2:9:]"
   ]
  },
  {
   "cell_type": "code",
   "execution_count": 5,
   "metadata": {},
   "outputs": [
    {
     "name": "stdout",
     "output_type": "stream",
     "text": [
      "(1, 2, 35, 23)\n",
      "(67, 23, 90, 23, 78, 23)\n",
      "(2, 23)\n",
      "(90, 23, 78)\n",
      "90\n"
     ]
    }
   ],
   "source": [
    "# nested tuple index\n",
    "var = ((1,2,35,23) , (67,23,90,23,78,23))\n",
    "print var[0]\n",
    "print var[1]\n",
    "print var[0][1::2]\n",
    "print var[1][2:5]\n",
    "print var[1][2]"
   ]
  },
  {
   "cell_type": "code",
   "execution_count": 8,
   "metadata": {},
   "outputs": [
    {
     "name": "stdout",
     "output_type": "stream",
     "text": [
      "[3, 6, 2, 5]\n",
      "[3, 500, 2, 5]\n"
     ]
    }
   ],
   "source": [
    "a = [3,6,2,5]\n",
    "print a\n",
    "a[1] = 500\n",
    "print a"
   ]
  },
  {
   "cell_type": "code",
   "execution_count": 9,
   "metadata": {},
   "outputs": [
    {
     "name": "stdout",
     "output_type": "stream",
     "text": [
      "(3, 6, 2, 5)\n"
     ]
    },
    {
     "ename": "TypeError",
     "evalue": "'tuple' object does not support item assignment",
     "output_type": "error",
     "traceback": [
      "\u001b[1;31m---------------------------------------------------------------------------\u001b[0m",
      "\u001b[1;31mTypeError\u001b[0m                                 Traceback (most recent call last)",
      "\u001b[1;32m<ipython-input-9-aefb7be89ab0>\u001b[0m in \u001b[0;36m<module>\u001b[1;34m()\u001b[0m\n\u001b[0;32m      1\u001b[0m \u001b[0ma\u001b[0m \u001b[1;33m=\u001b[0m \u001b[1;33m(\u001b[0m\u001b[1;36m3\u001b[0m\u001b[1;33m,\u001b[0m\u001b[1;36m6\u001b[0m\u001b[1;33m,\u001b[0m\u001b[1;36m2\u001b[0m\u001b[1;33m,\u001b[0m\u001b[1;36m5\u001b[0m\u001b[1;33m)\u001b[0m\u001b[1;33m\u001b[0m\u001b[0m\n\u001b[0;32m      2\u001b[0m \u001b[1;32mprint\u001b[0m \u001b[0ma\u001b[0m\u001b[1;33m\u001b[0m\u001b[0m\n\u001b[1;32m----> 3\u001b[1;33m \u001b[0ma\u001b[0m\u001b[1;33m[\u001b[0m\u001b[1;36m1\u001b[0m\u001b[1;33m]\u001b[0m \u001b[1;33m=\u001b[0m \u001b[1;36m500\u001b[0m\u001b[1;33m\u001b[0m\u001b[0m\n\u001b[0m\u001b[0;32m      4\u001b[0m \u001b[1;32mprint\u001b[0m \u001b[0ma\u001b[0m\u001b[1;33m\u001b[0m\u001b[0m\n",
      "\u001b[1;31mTypeError\u001b[0m: 'tuple' object does not support item assignment"
     ]
    }
   ],
   "source": [
    "a = (3,6,2,5)\n",
    "print a\n",
    "a[1] = 500\n",
    "print a"
   ]
  },
  {
   "cell_type": "code",
   "execution_count": 10,
   "metadata": {},
   "outputs": [
    {
     "name": "stdout",
     "output_type": "stream",
     "text": [
      "(12, 89, 34, 90, 1)\n",
      "90\n",
      "1\n",
      "226\n"
     ]
    }
   ],
   "source": [
    "a = (12,89,34,90,1)\n",
    "print a\n",
    "print max(a)\n",
    "print min(a)\n",
    "print sum(a)"
   ]
  },
  {
   "cell_type": "code",
   "execution_count": 11,
   "metadata": {},
   "outputs": [
    {
     "name": "stdout",
     "output_type": "stream",
     "text": [
      "(1, 2, 3, 5, 6, 7)\n",
      "(1, 2, 3, 5, 6, 7)\n",
      "(1, 2, 3, 1, 2, 3, 1, 2, 3)\n",
      "(1, 2, 3, 1, 2, 3, 1, 2, 3)\n",
      "True\n",
      "True\n"
     ]
    }
   ],
   "source": [
    "a =(1,2,3)\n",
    "b = (5,6,7)\n",
    "print a + b\n",
    "print a.__add__(b)\n",
    "print a * 3\n",
    "print a.__mul__(3)\n",
    "print  3 in a\n",
    "print a.__contains__(3)"
   ]
  },
  {
   "cell_type": "code",
   "execution_count": 12,
   "metadata": {},
   "outputs": [
    {
     "name": "stdout",
     "output_type": "stream",
     "text": [
      "['__add__', '__class__', '__contains__', '__delattr__', '__doc__', '__eq__', '__format__', '__ge__', '__getattribute__', '__getitem__', '__getnewargs__', '__getslice__', '__gt__', '__hash__', '__init__', '__iter__', '__le__', '__len__', '__lt__', '__mul__', '__ne__', '__new__', '__reduce__', '__reduce_ex__', '__repr__', '__rmul__', '__setattr__', '__sizeof__', '__str__', '__subclasshook__', 'count', 'index']\n"
     ]
    }
   ],
   "source": [
    "print dir(tuple)"
   ]
  },
  {
   "cell_type": "code",
   "execution_count": 14,
   "metadata": {},
   "outputs": [
    {
     "name": "stdout",
     "output_type": "stream",
     "text": [
      "3\n",
      "1\n",
      "3\n"
     ]
    }
   ],
   "source": [
    "a = (34,78,34,90,34)\n",
    "print a.count(34)\n",
    "print a.index(78)\n",
    "print a.index(90)"
   ]
  },
  {
   "cell_type": "code",
   "execution_count": null,
   "metadata": {},
   "outputs": [],
   "source": []
  }
 ],
 "metadata": {
  "kernelspec": {
   "display_name": "Python 2",
   "language": "python",
   "name": "python2"
  },
  "language_info": {
   "codemirror_mode": {
    "name": "ipython",
    "version": 2
   },
   "file_extension": ".py",
   "mimetype": "text/x-python",
   "name": "python",
   "nbconvert_exporter": "python",
   "pygments_lexer": "ipython2",
   "version": "2.7.16"
  }
 },
 "nbformat": 4,
 "nbformat_minor": 2
}
